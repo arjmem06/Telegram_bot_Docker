{
  "nbformat": 4,
  "nbformat_minor": 0,
  "metadata": {
    "colab": {
      "name": "Copia_de_telegrambot (3).ipynb",
      "provenance": [],
      "collapsed_sections": [],
      "toc_visible": true,
      "include_colab_link": true
    },
    "kernelspec": {
      "name": "python3",
      "display_name": "Python 3"
    },
    "language_info": {
      "name": "python"
    }
  },
  "cells": [
    {
      "cell_type": "markdown",
      "metadata": {
        "id": "view-in-github",
        "colab_type": "text"
      },
      "source": [
        "<a href=\"https://colab.research.google.com/github/arjmem06/Telegram_bot_Docker/blob/main/telegrambot.ipynb\" target=\"_parent\"><img src=\"https://colab.research.google.com/assets/colab-badge.svg\" alt=\"Open In Colab\"/></a>"
      ]
    },
    {
      "cell_type": "markdown",
      "metadata": {
        "id": "LY0hDm8xue-7"
      },
      "source": [
        "# Instalacion"
      ]
    },
    {
      "cell_type": "code",
      "metadata": {
        "id": "WEIvCN2_gD3S"
      },
      "source": [
        "###@title <font size=\"6\"><<----<strong>1.1 Instalar FFmeg ,  and rClone</strong>\n",
        "#%%capture\n",
        "AUTO_RECONNECT = True #@param {type:\"boolean\"}\n",
        "\n",
        "\n",
        "from os import makedirs\n",
        "from IPython.display import clear_output\n",
        "import os, urllib.request\n",
        "import os, pathlib, zipfile, re\n",
        "from google.colab import drive\n",
        "\n",
        "if AUTO_RECONNECT:\n",
        "  import IPython\n",
        "  from google.colab import output\n",
        " \n",
        "  display(IPython.display.Javascript('''\n",
        "  function ClickConnect(){\n",
        "    btn = document.querySelector(\"colab-connect-button\")\n",
        "    if (btn != null){\n",
        "      console.log(\"Click colab-connect-button\"); \n",
        "      btn.click() \n",
        "      }\n",
        "    \n",
        "    btn = document.getElementById('ok')\n",
        "    if (btn != null){\n",
        "      console.log(\"Click reconnect\"); \n",
        "      btn.click() \n",
        "      }\n",
        "    }\n",
        "    \n",
        "  setInterval(ClickConnect,60000)\n",
        "  '''))\n",
        "  print(\"Autoreconexion intalada.\")\n",
        "\n",
        "!git clone https://github.com/arjmem06/telethon_downloader \\\n",
        "      && mkdir temp \\\n",
        "      && mkdir descarga \\\n",
        "      && cd telethon_downloader\n",
        "\n",
        "os.system(\"apt-get update && apt-get install -y --no-install-recommends \\\n",
        "                                python3 \\\n",
        "                                python3-dev \\\n",
        "                                libffi-dev \\\n",
        "                                python3-pip \\\n",
        "                                python3-setuptools \\\n",
        "                                python3-wheel \\\n",
        "                                build-essential \\\n",
        "                && rm -rf /var/lib/apt/lists/* \\\n",
        "                && pip3 install cryptg \\\n",
        "                && pip3 install telethon[cryptg] \\\n",
        "                && apt-get remove --purge -y build-essential \\\n",
        "                                python3-dev \\\n",
        "                                libffi-dev \\\n",
        "                && apt autoremove -y \\\n",
        "                && rm -rf /var/lib/apt/lists/* \\\n",
        "                && chmod +x /app/tg_downloader.py  \")\n",
        "\n",
        "\n",
        "\n",
        "clear_output()\n",
        "drive.mount('/content/drive') \n",
        "clear_output()\n",
        "print(\"Unidad Montada /drive\")\n",
        "\n",
        "\n",
        "!pip install colab-env --upgrade\n",
        "\n",
        "import colab_env\n",
        "\n",
        "colab_env.RELOAD()\n",
        "\n",
        "#!more gdrive/My\\ Drive/vars.env # Ver las variables\n",
        "\n",
        "# Mover archivos al Drive periodicamente\n",
        "!python3 /content/gdrive/MyDrive/moverbuble.py  &>/dev/null &\n"
      ],
      "execution_count": null,
      "outputs": []
    },
    {
      "cell_type": "code",
      "metadata": {
        "id": "6yeyA3QhY0Ra"
      },
      "source": [
        "!python3 /content/telethon_downloader/tg_downloader.py"
      ],
      "execution_count": null,
      "outputs": []
    },
    {
      "cell_type": "code",
      "metadata": {
        "id": "96Cf3y_c-bXt"
      },
      "source": [
        "!python3 /content/gdrive/MyDrive/moverbuble.py  &>/dev/null &"
      ],
      "execution_count": null,
      "outputs": []
    },
    {
      "cell_type": "code",
      "metadata": {
        "id": "Nzo-bu10UERR",
        "colab": {
          "base_uri": "https://localhost:8080/"
        },
        "outputId": "214f9eca-a35a-4dde-e095-2ba51be5eebc"
      },
      "source": [
        "!python3 /content/gdrive/MyDrive/moverbuble.py"
      ],
      "execution_count": null,
      "outputs": [
        {
          "output_type": "stream",
          "text": [
            "Traceback (most recent call last):\n",
            "  File \"/content/gdrive/MyDrive/moverbuble.py\", line 10, in <module>\n",
            "KeyboardInterrupt\n"
          ],
          "name": "stdout"
        }
      ]
    }
  ]
}